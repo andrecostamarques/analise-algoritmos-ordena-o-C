{
 "cells": [
  {
   "cell_type": "code",
   "execution_count": 7,
   "metadata": {},
   "outputs": [],
   "source": [
    "import pandas as pd\n",
    "import numpy as np\n",
    "import numpy as np\n",
    "import matplotlib.pyplot as plt\n",
    "\n",
    "arquivo = 'output/data.csv'\n",
    "usecols = [\"indice\", \"metodo\", \"tipo\", \"tamanho\", \"tempo1\", \"tempo2\", \"tempo3\", \"tempo4\", \"tempo5\", \"tempo6\", \"tempo7\", \"tempo8\", \"tempo9\", \"tempo10\"]\n",
    "df = pd.read_csv(arquivo, index_col = \"indice\", usecols = usecols)"
   ]
  }
 ],
 "metadata": {
  "kernelspec": {
   "display_name": "Python 3",
   "language": "python",
   "name": "python3"
  },
  "language_info": {
   "codemirror_mode": {
    "name": "ipython",
    "version": 3
   },
   "file_extension": ".py",
   "mimetype": "text/x-python",
   "name": "python",
   "nbconvert_exporter": "python",
   "pygments_lexer": "ipython3",
   "version": "3.11.2"
  }
 },
 "nbformat": 4,
 "nbformat_minor": 2
}
